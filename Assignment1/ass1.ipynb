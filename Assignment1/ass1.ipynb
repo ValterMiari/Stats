{
 "cells": [
  {
   "cell_type": "markdown",
   "metadata": {},
   "source": [
    "## Assignment 1"
   ]
  },
  {
   "cell_type": "code",
   "execution_count": null,
   "metadata": {},
   "outputs": [],
   "source": [
    "import matplotlib.pyplot as plt\n",
    "import pandas as pd\n",
    "import numpy as np"
   ]
  },
  {
   "cell_type": "code",
   "execution_count": null,
   "metadata": {},
   "outputs": [],
   "source": [
    "#labels = ['unknown', 'prices', '']\n",
    "real_estate_prices = pd.read_csv(\"./houses.csv\")\n",
    "rep_values = real_estate_prices.iloc[:,1]\n",
    "rep_mean = rep_values.mean()\n",
    "rep_median = rep_values.median()\n",
    "rep_std = rep_values.std()\n",
    "rep_min = rep_values.min()\n",
    "rep_max = rep_values.max()\n",
    "#real_estate_prices\n",
    "print(f'{rep_mean}, {rep_median}, {rep_std}, {rep_min}, {rep_max}')\n",
    "real_estate_prices"
   ]
  },
  {
   "cell_type": "code",
   "execution_count": null,
   "metadata": {},
   "outputs": [],
   "source": [
    "# Plot of the distribution of the prices\n",
    "\n",
    "n_bins = rep_values.size\n",
    "#bins = [i for i in range(0, rep_max, int(rep_max/6))]\n",
    "#print(rep_values.values.size)\n",
    "plt.hist(rep_values.values, bins=np.arange(rep_min, rep_max))\n",
    "plt.ylabel('Price')\n",
    "plt.title('Prices of real estates in England')\n",
    "plt.show()"
   ]
  }
 ],
 "metadata": {
  "kernelspec": {
   "display_name": "Python 3.9.13 ('base')",
   "language": "python",
   "name": "python3"
  },
  "language_info": {
   "codemirror_mode": {
    "name": "ipython",
    "version": 3
   },
   "file_extension": ".py",
   "mimetype": "text/x-python",
   "name": "python",
   "nbconvert_exporter": "python",
   "pygments_lexer": "ipython3",
   "version": "3.9.13"
  },
  "orig_nbformat": 4,
  "vscode": {
   "interpreter": {
    "hash": "cdcfafd9fd18b2f50304cb1ac91cf2cd3258d06f8a1d8b8ee1bb2ccb94965571"
   }
  }
 },
 "nbformat": 4,
 "nbformat_minor": 2
}
