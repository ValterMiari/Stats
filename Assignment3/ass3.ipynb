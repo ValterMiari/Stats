{
 "cells": [
  {
   "cell_type": "markdown",
   "metadata": {},
   "source": [
    "## Assignment 3: Clustering Models\n",
    "\n",
    "In this assignment, you will implement the K-means method and apply it to image compression. Then you will use the Gaussian Mixture Models from the scikit-learn library and select the number of clusters K using the Akaike Information Criterion (AIC) and the Bayesian Information Criterion (BIC)."
   ]
  },
  {
   "cell_type": "markdown",
   "metadata": {},
   "source": [
    "#### Part 1) Implement the K-means algorithm"
   ]
  },
  {
   "cell_type": "code",
   "execution_count": 104,
   "metadata": {},
   "outputs": [
    {
     "name": "stdout",
     "output_type": "stream",
     "text": [
      "{0: 7, 1: 4, 2: 1}\n",
      "(1, 1, 1, 1)\n",
      "(2, 2, 2, 2)\n",
      "2.0\n",
      "{'hej': 1, 'nej': 2}\n"
     ]
    }
   ],
   "source": [
    "import numpy as np\n",
    "import pandas as pd\n",
    "import random\n",
    "import math\n",
    "from collections import Counter\n",
    "import sklearn.metrics as metrics\n",
    "\n",
    "'''\n",
    "Process of K-means:\n",
    "    1. Select the desired amount of clusters, K.\n",
    "    2. Randomly select K distinct data points; these are the initial clusters.\n",
    "    3. Measure the distance between the first data point and all the K initial clusters. For 2D, euclidian distance.\n",
    "    4. Assign the first point to its nearest cluster. Do the same thing for all the remaining points.\n",
    "    5. Calculate the mean of each cluster.\n",
    "    6. Then we repeat the process, but this time with the mean values as the clusters (cluster points).\n",
    "    The result of the clusters produced by this method is measured by the variation within the clusters.\n",
    "    The model cannot \"see\" the clusters, it can only determine weather the clusters are good or not with \n",
    "    measuring the variation within and then sum the variation. \n",
    "    Since the initial points are chosen at random, it is good practice to repeat the above method \n",
    "    multiple times, with different randomised initial point, and for each result\n",
    "    measure the variation within each cluster and determine which one produced the best clusters \n",
    "    by comparing them with each other.  \n",
    "\n",
    "    Pick K by finding the \"elbow\" in an \"eblow-plot\". The \"elbow-plot\" is a plot of the reduction\n",
    "    in variance per value of K.\n",
    "\n",
    "'''\n",
    "\n",
    "# Sample n random distinct points from data x \n",
    "def sample_random_points(x, n):\n",
    "    random_points = {}\n",
    "    random_sample = random.sample(list(x), n)\n",
    "    for i in range(n):\n",
    "        random_points.update({i: random_sample[i]})\n",
    "\n",
    "    return random_points\n",
    "\n",
    "# Calculates the euclidean distance between two points p and q in 2D space\n",
    "def euclid_distance(p, q):\n",
    "    p1, p2, p3, p4 = p\n",
    "    q1, q2, q3, q4 = q\n",
    "    distance = math.sqrt((q1-p1)**2 + (q2-p2)**2 + (q3-p3)**2 + (q4-p4)**2)\n",
    "    return distance\n",
    "\n",
    "# Calculates the euclidean distance between a point and the given centroids\n",
    "# Returns the index of the centroids which is closest to the point\n",
    "def calc_distance_to_centroids(p, centroids):\n",
    "    closest_centroid_index = -1\n",
    "    min_distance = float('inf') # Initialised to max float value\n",
    "    for i in range(len(centroids)):\n",
    "        distance = euclid_distance(p, centroids[i])\n",
    "        if distance <= min_distance:\n",
    "            min_distance = distance\n",
    "            closest_centroid_index = i\n",
    "    return closest_centroid_index\n",
    "\n",
    "def compute_mean_values(x, indices):\n",
    "    groups = {} # {label: [data points]}\n",
    "    # For every data point add it to the corresponding centroid index\n",
    "    for i in range(len(x)):\n",
    "        if indices[i] not in groups:\n",
    "            groups.update({indices[i]: [x[i]]})\n",
    "        else:\n",
    "            groups[indices[i]].append(x[i])\n",
    "    # Calculate the mean value for every data point for each index\n",
    "    mean_values = {}\n",
    "    for label in groups.keys():\n",
    "        values = groups[label]\n",
    "        mean = sum(values) / len(values) \n",
    "        mean_values.update({label: mean})\n",
    "    return mean_values\n",
    "\n",
    "def kmeans(x, K: int, n_init: int):   \n",
    "    # x: input data     \n",
    "    # K: number of centroids\n",
    "    # n_init: the number of initial guesses for the centroids\n",
    "    # centroids: contains the centers of the clusters\n",
    "    # labels: contains the cluster index for each data point \n",
    "\n",
    "    centroids = []\n",
    "    labels = [] \n",
    "\n",
    "    for _ in range(n_init):\n",
    "        tmp_centroids = sample_random_points(x, K)\n",
    "\n",
    "        not_converged = True\n",
    "        # Loop until convergence\n",
    "        while not_converged:\n",
    "            tmp_labels = []\n",
    "            print('--------------- New iteration')\n",
    "            for xn in x:\n",
    "                cluster_index = calc_distance_to_centroids(xn, list(tmp_centroids.values()))\n",
    "                tmp_labels.append(cluster_index)\n",
    "            updated_centroids = compute_mean_values(x, tmp_labels) \n",
    "            # Disclaimer, the centroids might not be placed at the same index <- changed to dict with indices, so should be ok\n",
    "\n",
    "            # Check if the centroids have converged\n",
    "            check = True\n",
    "            while check:\n",
    "                #print(tmp_centroids)\n",
    "                for i in range(len(tmp_centroids.values())):\n",
    "                    l = np.array(updated_centroids[i]) == np.array(tmp_centroids[i])\n",
    "                    #print(l)\n",
    "                    if not l.all():\n",
    "                        check = False \n",
    "                        # No convergence, updated the centroids\n",
    "                        tmp_centroids = updated_centroids\n",
    "                    else:\n",
    "                        print(tmp_centroids)\n",
    "                        centroids = tmp_centroids\n",
    "                        labels = tmp_labels\n",
    "                        print('Is this reached?')\n",
    "                        not_converged = False\n",
    "                        break\n",
    "            # If the check is true, the centroids have converged\n",
    "            '''if check:\n",
    "                centroids = tmp_centroids\n",
    "                labels = tmp_labels\n",
    "                print('Is this reached?')\n",
    "                break\n",
    "            '''\n",
    "\n",
    "    # Evaluate the scores somehow and then return the best ones\n",
    "\n",
    "    return centroids, labels\n",
    "\n",
    "print(sample_random_points([1,2,3,4,5,6,7,8,9], 3))\n",
    "print(euclid_distance((1,1, 1, 1), (2,2, 2, 2)))\n",
    "d = {}\n",
    "d.update({'hej':1})\n",
    "d['nej'] = 2\n",
    "print(d)"
   ]
  },
  {
   "cell_type": "code",
   "execution_count": 99,
   "metadata": {},
   "outputs": [
    {
     "name": "stdout",
     "output_type": "stream",
     "text": [
      "True\n",
      "[ True  True False]\n",
      "False\n",
      "--------------- New iteration\n"
     ]
    },
    {
     "ename": "ValueError",
     "evalue": "not enough values to unpack (expected 4, got 2)",
     "output_type": "error",
     "traceback": [
      "\u001b[0;31m---------------------------------------------------------------------------\u001b[0m",
      "\u001b[0;31mValueError\u001b[0m                                Traceback (most recent call last)",
      "Cell \u001b[0;32mIn [99], line 15\u001b[0m\n\u001b[1;32m     12\u001b[0m \u001b[39mprint\u001b[39m(r)\n\u001b[1;32m     13\u001b[0m \u001b[39mprint\u001b[39m(r\u001b[39m.\u001b[39mall())\n\u001b[0;32m---> 15\u001b[0m centroids, labels \u001b[39m=\u001b[39m kmeans(features, \u001b[39m3\u001b[39;49m, \u001b[39m1\u001b[39;49m)\n\u001b[1;32m     16\u001b[0m \u001b[39mprint\u001b[39m(centroids)\n\u001b[1;32m     17\u001b[0m \u001b[39mprint\u001b[39m(\u001b[39m'\u001b[39m\u001b[39m-------\u001b[39m\u001b[39m'\u001b[39m)\n",
      "Cell \u001b[0;32mIn [98], line 92\u001b[0m, in \u001b[0;36mkmeans\u001b[0;34m(x, K, n_init)\u001b[0m\n\u001b[1;32m     90\u001b[0m \u001b[39mprint\u001b[39m(\u001b[39m'\u001b[39m\u001b[39m--------------- New iteration\u001b[39m\u001b[39m'\u001b[39m)\n\u001b[1;32m     91\u001b[0m \u001b[39mfor\u001b[39;00m xn \u001b[39min\u001b[39;00m x:\n\u001b[0;32m---> 92\u001b[0m     cluster_index \u001b[39m=\u001b[39m calc_distance_to_centroids(xn, \u001b[39mlist\u001b[39;49m(tmp_centroids\u001b[39m.\u001b[39;49mvalues()))\n\u001b[1;32m     93\u001b[0m     tmp_labels\u001b[39m.\u001b[39mappend(cluster_index)\n\u001b[1;32m     94\u001b[0m updated_centroids \u001b[39m=\u001b[39m compute_mean_values(x, tmp_labels) \n",
      "Cell \u001b[0;32mIn [98], line 51\u001b[0m, in \u001b[0;36mcalc_distance_to_centroids\u001b[0;34m(p, centroids)\u001b[0m\n\u001b[1;32m     49\u001b[0m min_distance \u001b[39m=\u001b[39m \u001b[39mfloat\u001b[39m(\u001b[39m'\u001b[39m\u001b[39minf\u001b[39m\u001b[39m'\u001b[39m) \u001b[39m# Initialised to max float value\u001b[39;00m\n\u001b[1;32m     50\u001b[0m \u001b[39mfor\u001b[39;00m i \u001b[39min\u001b[39;00m \u001b[39mrange\u001b[39m(\u001b[39mlen\u001b[39m(centroids)):\n\u001b[0;32m---> 51\u001b[0m     distance \u001b[39m=\u001b[39m euclid_distance(p, centroids[i])\n\u001b[1;32m     52\u001b[0m     \u001b[39mif\u001b[39;00m distance \u001b[39m<\u001b[39m\u001b[39m=\u001b[39m min_distance:\n\u001b[1;32m     53\u001b[0m         min_distance \u001b[39m=\u001b[39m distance\n",
      "Cell \u001b[0;32mIn [98], line 40\u001b[0m, in \u001b[0;36meuclid_distance\u001b[0;34m(p, q)\u001b[0m\n\u001b[1;32m     39\u001b[0m \u001b[39mdef\u001b[39;00m \u001b[39meuclid_distance\u001b[39m(p, q):\n\u001b[0;32m---> 40\u001b[0m     p1, p2, p3, p4 \u001b[39m=\u001b[39m p\n\u001b[1;32m     41\u001b[0m     q1, q2, q3, q4 \u001b[39m=\u001b[39m q\n\u001b[1;32m     42\u001b[0m     distance \u001b[39m=\u001b[39m math\u001b[39m.\u001b[39msqrt((q1\u001b[39m-\u001b[39mp1)\u001b[39m*\u001b[39m\u001b[39m*\u001b[39m\u001b[39m2\u001b[39m \u001b[39m+\u001b[39m (q2\u001b[39m-\u001b[39mp2)\u001b[39m*\u001b[39m\u001b[39m*\u001b[39m\u001b[39m2\u001b[39m \u001b[39m+\u001b[39m (q3\u001b[39m-\u001b[39mp3)\u001b[39m*\u001b[39m\u001b[39m*\u001b[39m\u001b[39m2\u001b[39m \u001b[39m+\u001b[39m (q4\u001b[39m-\u001b[39mp4)\u001b[39m*\u001b[39m\u001b[39m*\u001b[39m\u001b[39m2\u001b[39m)\n",
      "\u001b[0;31mValueError\u001b[0m: not enough values to unpack (expected 4, got 2)"
     ]
    }
   ],
   "source": [
    "# Testing the algorithm\n",
    "from sklearn.datasets import make_blobs\n",
    "features, true_labels = make_blobs(\n",
    "    n_samples = 200,\n",
    "    centers = 3,\n",
    "    cluster_std= 3,\n",
    "    random_state= 3\n",
    ")\n",
    "#print(features)\n",
    "print([1,2] == [1,2])\n",
    "r = np.array([1,3,4]) == np.array([1,3,5])\n",
    "print(r)\n",
    "print(r.all())\n",
    "\n",
    "centroids, labels = kmeans(features, 3, 1)\n",
    "print(centroids)\n",
    "print('-------')\n",
    "print('labels:', labels)\n",
    "print('true labels:', true_labels)\n",
    "trues = 0\n",
    "falses = 0\n",
    "for label, true_label in zip(labels, true_labels):\n",
    "    if label == true_label:\n",
    "        trues += 1\n",
    "    else:\n",
    "        falses += 1\n",
    "print(trues)\n",
    "print(falses)"
   ]
  },
  {
   "cell_type": "code",
   "execution_count": 63,
   "metadata": {},
   "outputs": [
    {
     "name": "stdout",
     "output_type": "stream",
     "text": [
      "[747.3970451749088, 929.4764744549949, 2882.8840515393626]\n",
      "0.2098623149584354\n",
      "0.22056287840227917\n"
     ]
    }
   ],
   "source": [
    "# SSE and Siloutte scores\n",
    "\n",
    "# Summation of all the distances from each point to its given cluster (centroid)\n",
    "def sse(x, K, labels, centroids):\n",
    "    sse_result = [0 for i in range(K)]\n",
    "    for point, label in zip(x, labels):\n",
    "        sse_result[label] += np.square(euclid_distance(point, centroids[label]))\n",
    "    return sse_result\n",
    "\n",
    "# Computes the distance from a given data point to all other data points\n",
    "# within the same cluster\n",
    "# TODO: Check correctness!\n",
    "def within_cluster_distance(x, labels, cluster, data_point):\n",
    "    cluster_length = 0\n",
    "    acc_distance = 0\n",
    "    a_i = 0\n",
    "\n",
    "    for point, label in zip(x, labels):\n",
    "        # Check if every coordinate in the data point is equal to the other,\n",
    "        # i.e. if it's the same data point\n",
    "        l = np.array(data_point) == np.array(point)\n",
    "        if (not l.all()) and label == cluster:\n",
    "            acc_distance += euclid_distance(data_point, point)\n",
    "            cluster_length += 1\n",
    "    \n",
    "    a_i = (1 / (cluster_length- 1)) * acc_distance\n",
    "    return a_i\n",
    "\n",
    "# Computes the distance from a given data point to all other data points\n",
    "# outside of its cluster\n",
    "# TODO: Check correctness!\n",
    "def between_cluster_distance(x, labels, K, cluster, data_point):\n",
    "    # Was K-1 before, but the cluster \"within\" can be in the middle,\n",
    "    # thus all indices are needed. But in this case one will be null\n",
    "    other_clusters = [0 for i in range(K)] \n",
    "    cluster_lengths = [0 for i in range(K)]\n",
    "\n",
    "    for point, label in zip(x, labels):\n",
    "        if label != cluster:\n",
    "            other_clusters[label] += euclid_distance(data_point, point)\n",
    "            cluster_lengths[label] += 1\n",
    "    \n",
    "    #print('Cluster lengths:', cluster_lengths)\n",
    "    for c_k in range(len(other_clusters)):\n",
    "        if c_k != cluster:\n",
    "            other_clusters[c_k] = (1/cluster_lengths[c_k]) * other_clusters[c_k]\n",
    "    #print('Between cluster distances:', other_clusters)\n",
    "    \n",
    "    # Return the min, of all clusters except the one of focus, i.e. all the others\n",
    "    other_clusters.pop(cluster)\n",
    "    return min(other_clusters)\n",
    "\n",
    "\n",
    "# A mixture of distance between points within the cluster and distance between points from\n",
    "# the other clusters, i.e. outside of the given points cluster.\n",
    "def siloutte_score(x, K, labels):\n",
    "    #print('Labels:', labels)\n",
    "    score = 0\n",
    "    for point, label in zip(x, labels):\n",
    "        a_i = within_cluster_distance(x, labels, label, point) \n",
    "        b_i = between_cluster_distance(x, labels, K, label, point)\n",
    "        score += ((b_i - a_i)/np.max([b_i, a_i]))\n",
    "    return score/float(len(x))\n",
    "\n",
    "print(sse(features, 3, labels, centroids))\n",
    "# Seems to checkout\n",
    "sil_score = siloutte_score(features, 3, labels)\n",
    "print(sil_score)\n",
    "s_score = metrics.silhouette_score(features, labels)\n",
    "print(s_score)\n",
    "\n",
    "\"\"\" def elbow_graph(features, stop, labels, centroids):\n",
    "    ax, fig = plt.subplot() \"\"\""
   ]
  },
  {
   "attachments": {},
   "cell_type": "markdown",
   "metadata": {},
   "source": [
    "* **If you run this algorithm multiple times, do you get the same result every time? If so, why; if not, how do you determine which result is the best one?**\n",
    "    \n",
    "    The result isn't the same, since the algorithm involves randomness. \n",
    "    The K initial points, centroids for the K clusters, are chosen at random. Thus, each iteration of the algorithm\n",
    "    could result in different results, and more often than not do.\n",
    "    \n",
    "\n",
    "* **How do you choose what K value to use?**\n",
    "\n",
    "    A good metric to determine what K value to use is the SSE-score. But one cannot blindly use it, since we want the SSE-score to be low, but not as low as possible, since SSE -> 0 when K = N, meaning that each data point has its own cluster. This defeats the purpose of clustering in the first part. Thus, one want to choose K at the elbow-point of the SSE-score for different values of K. This is essentially the point of maximum curvature, i.e. the largest K where the SSE-score doesn't decrease significantly by further increasing K. This K kan be found by plotting the SSE-score, resulting in a so called elbow-graph.\n",
    "    \n",
    "    Another helpfull measuring method is the Siloutte score of the K-means algorithm. The siloutte score measures how well each data point has been clustered in relation to the cluster it belongs to and the other clusters. Essentially how well defined each cluster is. For a given data point it outputs a value between -1 and 1. With a high value indicating an assignment to a well defined cluster and a low value to an overlapping or poorly defined cluster. The final score is the sum of all the scores for each individual data point from every cluster.\n",
    "\n",
    "* **Implement both SSE and the Silhouette score; use them to address these questions.**\n",
    "\n",
    "    See code cell above.\n",
    "\n",
    "\n",
    "* **Discuss the similarities and differences between 1) K-means, 2) Gaussian Mixture Models (GMM) and 3) the Gaussian naive Bayes classifier in terms of their assumptions and parameter estimation methods. In particular, write down the implications of each assumption (e.g., x and y are assumed to be independent, and therefore, we have ....).  You can choose to write your answers as Python code, pseudo code or mathematical equations.**\n",
    "\n",
    "    K-means and GMM are clustering models, while the Gaussian naive Bayes classifier is a classification model. \n",
    "\n",
    "    In the K-means algorithm the clusters are assume to be of a spherical shape, given this assumption, it doesn't perform well on clusters that take on distinctively different shapes. Another assumption is the number of clusters. One has to decide the K before running the algorithm. However, one can work around this assumption by running several iterations of the algorithm, with different K-values and then determine the best one with SSE and an elbow-graph.\n",
    "    The parameter estimation in K-means is rather straight forward; it's an iterative method, that updated the centroids until convergence, from the initial centroids that are K points chosen at random. <- can be elaborated further.\n",
    "\n",
    "    In GMM and Gaussian naive Bayes we assume that the data follows a Gaussian (normal) distribution. Also, we assume that the likelihood of observing one sample is independent from all other samples, such that we can multiple the likelihoods with each other. But GMM differs from Gaussian naive Bayes in that it doesn't necessarily assume independence for data from different dimension, where Gaussian naive Bayes does. \n",
    "\n",
    "    GMM estimates its parameters using the Expectation-Maximization algorithm, which is an iterative method that in essence can be devided in to, expectation: computing the posterior probability of the cluster for each data point, and maximisation: maximise the expected (log) likelihood found on the expectation-step, for each cluster. These steps are repeated until the stopping criteria is met, which either be a check if a chosen objective function have not changing or any of the parameters, from the last iteration.\n",
    "\n",
    "    The Gaussian naive Bayes estimates the parameters by calculating the mean-value and variance for each class, in order to being able to use the PDF for a Gaussian distribution, for which the model assumes the data is distributed from.\n",
    "\n",
    "\n",
    "    Takeaways: While K-means is a more simple algorithm than GMM, using only distance based estimation, GMM can be viewed as a more sophisticated version of K-means. GMM uses soft clustering in comparison to K-means, which gives more nuance to the clustering \n",
    "    If one knows that the data doesn't follow a Gaussian distibution, GMM and Gaussian Naive Bayes isn't a particularily good model, since the assumption is then plain and simply wrong.\n",
    "    The assumption that the data is independent is a strong one, and more often than not it isn't the case. But even so it can lead to satisfying results and the main point of the assumption is how it makes the models much more simple.\n",
    "\n",
    "    "
   ]
  },
  {
   "cell_type": "markdown",
   "metadata": {},
   "source": [
    "#### Part 2) Apply the K-means algorithm to compress images"
   ]
  },
  {
   "cell_type": "code",
   "execution_count": 110,
   "metadata": {},
   "outputs": [
    {
     "name": "stdout",
     "output_type": "stream",
     "text": [
      "(2010724, 4)\n",
      "(5107600, 4)\n",
      "(1261129, 4)\n",
      "1.0\n"
     ]
    },
    {
     "data": {
      "image/png": "[encoded data removed]",
      "text/plain": [
       "<Figure size 640x480 with 3 Axes>"
      ]
     },
     "metadata": {},
     "output_type": "display_data"
    },
    {
     "data": {
      "image/png": "[encoded data removed]",
      "text/plain": [
       "<Figure size 640x480 with 3 Axes>"
      ]
     },
     "metadata": {},
     "output_type": "display_data"
    },
    {
     "data": {
      "image/png": "[encoded data removed]",
      "text/plain": [
       "<Figure size 640x480 with 3 Axes>"
      ]
     },
     "metadata": {},
     "output_type": "display_data"
    }
   ],
   "source": [
    "from matplotlib import pyplot as plt\n",
    "from matplotlib import image as mpimg\n",
    "\n",
    "def process_images():\n",
    "    # Reading and scaling\n",
    "    earth = mpimg.imread('earth.png') #.astype(np.float32) # / 255\n",
    "    mars = mpimg.imread('mars.png') \n",
    "    jupiter = mpimg.imread('jupiter.png') \n",
    "\n",
    "    images = np.array([earth, mars, jupiter], dtype='object')\n",
    "    # Reshaping the images\n",
    "    for i in range(len(images)):\n",
    "        images[i] = np.reshape(images[i], (images[i].shape[0] * images[i].shape[1], images[i].shape[2]))\n",
    "        print(images[i].shape)\n",
    "    print(images[0][0][0])\n",
    "    \n",
    "    return images\n",
    "\n",
    "images = process_images()\n",
    "for i in range(len(images)):\n",
    "    fig, axes = plt.subplots(len(images))\n",
    "    axes[i].imshow(images[i])\n"
   ]
  },
  {
   "cell_type": "code",
   "execution_count": 106,
   "metadata": {},
   "outputs": [
    {
     "name": "stdout",
     "output_type": "stream",
     "text": [
      "<class 'numpy.ndarray'>\n",
      "(1418, 1418, 4)\n",
      "--------------- New iteration\n",
      "[[1. 1. 1. 0.]\n",
      " [1. 1. 1. 0.]\n",
      " [1. 1. 1. 0.]\n",
      " ...\n",
      " [1. 1. 1. 0.]\n",
      " [1. 1. 1. 0.]\n",
      " [1. 1. 1. 0.]]\n",
      "[[1. 1. 1. 0.]\n",
      " [1. 1. 1. 0.]\n",
      " [1. 1. 1. 0.]\n",
      " ...\n",
      " [1. 1. 1. 0.]\n",
      " [1. 1. 1. 0.]\n",
      " [1. 1. 1. 0.]]\n"
     ]
    },
    {
     "ename": "ValueError",
     "evalue": "too many values to unpack (expected 4)",
     "output_type": "error",
     "traceback": [
      "\u001b[0;31m---------------------------------------------------------------------------\u001b[0m",
      "\u001b[0;31mValueError\u001b[0m                                Traceback (most recent call last)",
      "Cell \u001b[0;32mIn [106], line 9\u001b[0m\n\u001b[1;32m      6\u001b[0m         compressed_images\u001b[39m.\u001b[39mappend(kmeans(image, K, \u001b[39m1\u001b[39m))\n\u001b[1;32m      7\u001b[0m     \u001b[39mreturn\u001b[39;00m compress_images\n\u001b[0;32m----> 9\u001b[0m compressed_images \u001b[39m=\u001b[39m compress_images(images, \u001b[39m3\u001b[39;49m)\n\u001b[1;32m     11\u001b[0m \u001b[39mfor\u001b[39;00m i \u001b[39min\u001b[39;00m \u001b[39mrange\u001b[39m(\u001b[39mlen\u001b[39m(compressed_images)):\n\u001b[1;32m     12\u001b[0m     fig, axes \u001b[39m=\u001b[39m plt\u001b[39m.\u001b[39msubplots(\u001b[39mlen\u001b[39m(compressed_images))\n",
      "Cell \u001b[0;32mIn [106], line 6\u001b[0m, in \u001b[0;36mcompress_images\u001b[0;34m(images, K)\u001b[0m\n\u001b[1;32m      4\u001b[0m     \u001b[39mprint\u001b[39m(\u001b[39mtype\u001b[39m(image))\n\u001b[1;32m      5\u001b[0m     \u001b[39mprint\u001b[39m(image\u001b[39m.\u001b[39mshape)\n\u001b[0;32m----> 6\u001b[0m     compressed_images\u001b[39m.\u001b[39mappend(kmeans(image, K, \u001b[39m1\u001b[39;49m))\n\u001b[1;32m      7\u001b[0m \u001b[39mreturn\u001b[39;00m compress_images\n",
      "Cell \u001b[0;32mIn [104], line 94\u001b[0m, in \u001b[0;36mkmeans\u001b[0;34m(x, K, n_init)\u001b[0m\n\u001b[1;32m     92\u001b[0m \u001b[39mprint\u001b[39m(\u001b[39m'\u001b[39m\u001b[39m--------------- New iteration\u001b[39m\u001b[39m'\u001b[39m)\n\u001b[1;32m     93\u001b[0m \u001b[39mfor\u001b[39;00m xn \u001b[39min\u001b[39;00m x:\n\u001b[0;32m---> 94\u001b[0m     cluster_index \u001b[39m=\u001b[39m calc_distance_to_centroids(xn, \u001b[39mlist\u001b[39;49m(tmp_centroids\u001b[39m.\u001b[39;49mvalues()))\n\u001b[1;32m     95\u001b[0m     tmp_labels\u001b[39m.\u001b[39mappend(cluster_index)\n\u001b[1;32m     96\u001b[0m updated_centroids \u001b[39m=\u001b[39m compute_mean_values(x, tmp_labels) \n",
      "Cell \u001b[0;32mIn [104], line 53\u001b[0m, in \u001b[0;36mcalc_distance_to_centroids\u001b[0;34m(p, centroids)\u001b[0m\n\u001b[1;32m     51\u001b[0m min_distance \u001b[39m=\u001b[39m \u001b[39mfloat\u001b[39m(\u001b[39m'\u001b[39m\u001b[39minf\u001b[39m\u001b[39m'\u001b[39m) \u001b[39m# Initialised to max float value\u001b[39;00m\n\u001b[1;32m     52\u001b[0m \u001b[39mfor\u001b[39;00m i \u001b[39min\u001b[39;00m \u001b[39mrange\u001b[39m(\u001b[39mlen\u001b[39m(centroids)):\n\u001b[0;32m---> 53\u001b[0m     distance \u001b[39m=\u001b[39m euclid_distance(p, centroids[i])\n\u001b[1;32m     54\u001b[0m     \u001b[39mif\u001b[39;00m distance \u001b[39m<\u001b[39m\u001b[39m=\u001b[39m min_distance:\n\u001b[1;32m     55\u001b[0m         min_distance \u001b[39m=\u001b[39m distance\n",
      "Cell \u001b[0;32mIn [104], line 42\u001b[0m, in \u001b[0;36meuclid_distance\u001b[0;34m(p, q)\u001b[0m\n\u001b[1;32m     40\u001b[0m \u001b[39mprint\u001b[39m(p)\n\u001b[1;32m     41\u001b[0m \u001b[39mprint\u001b[39m(q)\n\u001b[0;32m---> 42\u001b[0m p1, p2, p3, p4 \u001b[39m=\u001b[39m p\n\u001b[1;32m     43\u001b[0m q1, q2, q3, q4 \u001b[39m=\u001b[39m q\n\u001b[1;32m     44\u001b[0m distance \u001b[39m=\u001b[39m math\u001b[39m.\u001b[39msqrt((q1\u001b[39m-\u001b[39mp1)\u001b[39m*\u001b[39m\u001b[39m*\u001b[39m\u001b[39m2\u001b[39m \u001b[39m+\u001b[39m (q2\u001b[39m-\u001b[39mp2)\u001b[39m*\u001b[39m\u001b[39m*\u001b[39m\u001b[39m2\u001b[39m \u001b[39m+\u001b[39m (q3\u001b[39m-\u001b[39mp3)\u001b[39m*\u001b[39m\u001b[39m*\u001b[39m\u001b[39m2\u001b[39m \u001b[39m+\u001b[39m (q4\u001b[39m-\u001b[39mp4)\u001b[39m*\u001b[39m\u001b[39m*\u001b[39m\u001b[39m2\u001b[39m)\n",
      "\u001b[0;31mValueError\u001b[0m: too many values to unpack (expected 4)"
     ]
    }
   ],
   "source": [
    "def compress_images(images, K):\n",
    "    compressed_images = []\n",
    "    for image in images:\n",
    "        print(type(image))\n",
    "        print(image.shape)\n",
    "        compressed_images.append(kmeans(image, K, 1))\n",
    "    return compress_images\n",
    "\n",
    "compressed_images = compress_images(images, 3)\n",
    "\n",
    "for i in range(len(compressed_images)):\n",
    "    fig, axes = plt.subplots(len(compressed_images))\n",
    "    axes[i].imshow(compressed_images[i])"
   ]
  },
  {
   "cell_type": "markdown",
   "metadata": {},
   "source": [
    "#### Part 3) Use AIC and BIC to choose K for Gaussian Mixture Models "
   ]
  },
  {
   "cell_type": "code",
   "execution_count": null,
   "metadata": {},
   "outputs": [],
   "source": [
    "from sklearn.datasets import load_breast_cancer\n",
    "data = load_breast_cancer().data "
   ]
  }
 ],
 "metadata": {
  "kernelspec": {
   "display_name": "Python 3 (ipykernel)",
   "language": "python",
   "name": "python3"
  },
  "language_info": {
   "codemirror_mode": {
    "name": "ipython",
    "version": 3
   },
   "file_extension": ".py",
   "mimetype": "text/x-python",
   "name": "python",
   "nbconvert_exporter": "python",
   "pygments_lexer": "ipython3",
   "version": "3.10.6 (main, Aug 30 2022, 04:58:14) [Clang 13.1.6 (clang-1316.0.21.2.5)]"
  },
  "vscode": {
   "interpreter": {
    "hash": "b0fa6594d8f4cbf19f97940f81e996739fb7646882a419484c72d19e05852a7e"
   }
  }
 },
 "nbformat": 4,
 "nbformat_minor": 2
}
