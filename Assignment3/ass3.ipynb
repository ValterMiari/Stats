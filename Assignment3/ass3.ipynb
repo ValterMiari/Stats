{
 "cells": [
  {
   "cell_type": "markdown",
   "metadata": {},
   "source": [
    "## Assignment 3: Clustering Models\n",
    "\n",
    "In this assignment, you will implement the K-means method and apply it to image compression. Then you will use the Gaussian Mixture Models from the scikit-learn library and select the number of clusters K using the Akaike Information Criterion (AIC) and the Bayesian Information Criterion (BIC)."
   ]
  },
  {
   "cell_type": "markdown",
   "metadata": {},
   "source": [
    "#### Part 1) Implement the K-means algorithm"
   ]
  },
  {
   "cell_type": "code",
   "execution_count": 104,
   "metadata": {},
   "outputs": [
    {
     "name": "stdout",
     "output_type": "stream",
     "text": [
      "{0: 5, 1: 6, 2: 2}\n",
      "1.4142135623730951\n",
      "{'hej': 1, 'nej': 2}\n"
     ]
    }
   ],
   "source": [
    "import numpy as np\n",
    "import pandas as pd\n",
    "import random\n",
    "import math\n",
    "from collections import Counter\n",
    "\n",
    "'''\n",
    "Process of K-means:\n",
    "    1. Select the desired amount of clusters, K.\n",
    "    2. Randomly select K distinct data points; these are the initial clusters.\n",
    "    3. Measure the distance between the first data point and all the K initial clusters. For 2D, euclidian distance.\n",
    "    4. Assign the first point to its nearest cluster. Do the same thing for all the remaining points.\n",
    "    5. Calculate the mean of each cluster.\n",
    "    6. Then we repeat the process, but this time with the mean values as the clusters (cluster points).\n",
    "    The result of the clusters produced by this method is measured by the variation within the clusters.\n",
    "    The model cannot \"see\" the clusters, it can only determine weather the clusters are good or not with \n",
    "    measuring the variation within and then sum the variation. \n",
    "    Since the initial points are chosen at random, it is good practice to repeat the above method \n",
    "    multiple times, with different randomised initial point, and for each result\n",
    "    measure the variation within each cluster and determine which one produced the best clusters \n",
    "    by comparing them with each other.  \n",
    "\n",
    "    Pick K by finding the \"elbow\" in an \"eblow-plot\". The \"elbow-plot\" is a plot of the reduction\n",
    "    in variance per value of K.\n",
    "\n",
    "'''\n",
    "\n",
    "# Sample n random distinct points from data x \n",
    "def sample_random_points(x, n: int):\n",
    "    \"\"\" random_points = {} # {index: point}\n",
    "    for i in range(n):\n",
    "        rand = random.randint(0,len(x)-1)\n",
    "        while x[rand] in random_points.values():\n",
    "            rand = random.randint(0,len(x)-1)\n",
    "        random_points.update({i: x[rand]})\n",
    "    return random_points \"\"\"\n",
    "    random_points = {}\n",
    "    random_sample = random.sample(list(x), n)\n",
    "    for i in range(n):\n",
    "        random_points.update({i: random_sample[i]})\n",
    "\n",
    "    return random_points\n",
    "\n",
    "# Calculates the euclidean distance between two points p and q in 2D space\n",
    "def euclid_distance(p, q):\n",
    "    p1, p2 = p\n",
    "    q1, q2 = q\n",
    "    distance = math.sqrt((q1-p1)**2 + (q2-p2)**2)\n",
    "    return distance\n",
    "\n",
    "# Calculates the euclidean distance between a point and the given centroids\n",
    "# Returns the index of the centroids which is closest to the point\n",
    "def calc_distance_to_centroids(p, centroids):\n",
    "    closest_centroid_index = -1\n",
    "    min_distance = float('inf') # Initialised to max float value\n",
    "    for i in range(len(centroids)):\n",
    "        distance = euclid_distance(p, centroids[i])\n",
    "        if distance <= min_distance:\n",
    "            min_distance = distance\n",
    "            closest_centroid_index = i\n",
    "    return closest_centroid_index\n",
    "\n",
    "def compute_mean_values(x, indices):\n",
    "    groups = {} # {label: [data points]}\n",
    "    # For every data point add it to the corresponding centroid index\n",
    "    for i in range(len(x)):\n",
    "        if indices[i] not in groups:\n",
    "            groups.update({indices[i]: [x[i]]})\n",
    "        else:\n",
    "            groups[indices[i]].append(x[i])\n",
    "    # Calculate the mean value for every data point for each index\n",
    "    mean_values = {}\n",
    "    for label in groups.keys():\n",
    "        values = groups[label]\n",
    "        mean = sum(values) / len(values) \n",
    "        mean_values.update({label: mean})\n",
    "    return mean_values\n",
    "\n",
    "\n",
    "\n",
    "\n",
    "\n",
    "def kmeans(x, K: int, n_init: int):   \n",
    "    # x: input data     \n",
    "    # K: number of centroids\n",
    "    # n_init: the number of initial guesses for the centroids\n",
    "    # centroids: contains the centers of the clusters\n",
    "    # labels: contains the cluster index for each data point \n",
    "\n",
    "    centroids = []\n",
    "    labels = [] \n",
    "\n",
    "    for _ in range(n_init):\n",
    "        tmp_centroids = sample_random_points(x, K)\n",
    "\n",
    "        # Loop until convergence\n",
    "        while True:\n",
    "            tmp_labels = []\n",
    "            print('--------------- New iteration')\n",
    "            for xn in x:\n",
    "                cluster_index = calc_distance_to_centroids(xn, list(tmp_centroids.values()))\n",
    "                tmp_labels.append(cluster_index)\n",
    "            updated_centroids = compute_mean_values(x, tmp_labels) \n",
    "            # Disclaimer, the centroids might not be placed at the same index <- changed to dict with indices, so should be ok\n",
    "\n",
    "            # Check if the centroids have converged\n",
    "            check = True\n",
    "            while check:\n",
    "                #print(tmp_centroids)\n",
    "                for i in range(len(tmp_centroids.values())):\n",
    "                    l = np.array(updated_centroids[i]) == np.array(tmp_centroids[i])\n",
    "                    #print(l)\n",
    "                    if not l.all():\n",
    "                        check = False \n",
    "                        # No convergence, updated the centroids\n",
    "                        tmp_centroids = updated_centroids\n",
    "                    else:\n",
    "                        centroids = tmp_centroids\n",
    "                        labels = tmp_labels\n",
    "                        print('Is this reached?')\n",
    "                        break\n",
    "            # If the check is true, the centroids have converged\n",
    "            '''if check:\n",
    "                centroids = tmp_centroids\n",
    "                labels = tmp_labels\n",
    "                print('Is this reached?')\n",
    "                break\n",
    "            '''\n",
    "\n",
    "    # Evaluate the scores somehow and then return the best ones\n",
    "\n",
    "    return centroids, labels\n",
    "\n",
    "print(sample_random_points([1,2,3,4,5,6,7,8,9], 3))\n",
    "print(euclid_distance((1,1), (2,2)))\n",
    "d = {}\n",
    "d.update({'hej':1})\n",
    "d['nej'] = 2\n",
    "print(d)"
   ]
  },
  {
   "cell_type": "code",
   "execution_count": 103,
   "metadata": {},
   "outputs": [
    {
     "name": "stdout",
     "output_type": "stream",
     "text": [
      "True\n",
      "[ True  True False]\n",
      "False\n",
      "--------------- New iteration\n",
      "--------------- New iteration\n",
      "--------------- New iteration\n",
      "--------------- New iteration\n",
      "--------------- New iteration\n",
      "--------------- New iteration\n",
      "--------------- New iteration\n",
      "--------------- New iteration\n",
      "--------------- New iteration\n",
      "--------------- New iteration\n",
      "--------------- New iteration\n",
      "--------------- New iteration\n",
      "--------------- New iteration\n",
      "--------------- New iteration\n",
      "--------------- New iteration\n"
     ]
    },
    {
     "ename": "KeyboardInterrupt",
     "evalue": "",
     "output_type": "error",
     "traceback": [
      "\u001b[0;31m---------------------------------------------------------------------------\u001b[0m",
      "\u001b[0;31mKeyboardInterrupt\u001b[0m                         Traceback (most recent call last)",
      "Cell \u001b[0;32mIn [103], line 15\u001b[0m\n\u001b[1;32m     12\u001b[0m \u001b[39mprint\u001b[39m(r)\n\u001b[1;32m     13\u001b[0m \u001b[39mprint\u001b[39m(r\u001b[39m.\u001b[39mall())\n\u001b[0;32m---> 15\u001b[0m centroids, labels \u001b[39m=\u001b[39m kmeans(features, \u001b[39m3\u001b[39;49m, \u001b[39m1\u001b[39;49m)\n",
      "Cell \u001b[0;32mIn [102], line 113\u001b[0m, in \u001b[0;36mkmeans\u001b[0;34m(x, K, n_init)\u001b[0m\n\u001b[1;32m    111\u001b[0m l \u001b[39m=\u001b[39m np\u001b[39m.\u001b[39marray(updated_centroids[i]) \u001b[39m==\u001b[39m np\u001b[39m.\u001b[39marray(tmp_centroids[i])\n\u001b[1;32m    112\u001b[0m \u001b[39m#print(l)\u001b[39;00m\n\u001b[0;32m--> 113\u001b[0m \u001b[39mif\u001b[39;00m \u001b[39mnot\u001b[39;00m l\u001b[39m.\u001b[39;49mall():\n\u001b[1;32m    114\u001b[0m     check \u001b[39m=\u001b[39m \u001b[39mFalse\u001b[39;00m \n\u001b[1;32m    115\u001b[0m     \u001b[39m# No convergence, updated the centroids\u001b[39;00m\n",
      "File \u001b[0;32m/opt/homebrew/lib/python3.10/site-packages/numpy/core/_methods.py:63\u001b[0m, in \u001b[0;36m_all\u001b[0;34m(a, axis, dtype, out, keepdims, where)\u001b[0m\n\u001b[1;32m     60\u001b[0m \u001b[39mdef\u001b[39;00m \u001b[39m_all\u001b[39m(a, axis\u001b[39m=\u001b[39m\u001b[39mNone\u001b[39;00m, dtype\u001b[39m=\u001b[39m\u001b[39mNone\u001b[39;00m, out\u001b[39m=\u001b[39m\u001b[39mNone\u001b[39;00m, keepdims\u001b[39m=\u001b[39m\u001b[39mFalse\u001b[39;00m, \u001b[39m*\u001b[39m, where\u001b[39m=\u001b[39m\u001b[39mTrue\u001b[39;00m):\n\u001b[1;32m     61\u001b[0m     \u001b[39m# Parsing keyword arguments is currently fairly slow, so avoid it for now\u001b[39;00m\n\u001b[1;32m     62\u001b[0m     \u001b[39mif\u001b[39;00m where \u001b[39mis\u001b[39;00m \u001b[39mTrue\u001b[39;00m:\n\u001b[0;32m---> 63\u001b[0m         \u001b[39mreturn\u001b[39;00m umr_all(a, axis, dtype, out, keepdims)\n\u001b[1;32m     64\u001b[0m     \u001b[39mreturn\u001b[39;00m umr_all(a, axis, dtype, out, keepdims, where\u001b[39m=\u001b[39mwhere)\n",
      "\u001b[0;31mKeyboardInterrupt\u001b[0m: "
     ]
    }
   ],
   "source": [
    "# Testing the algorithm\n",
    "from sklearn.datasets import make_blobs\n",
    "features, true_labels = make_blobs(\n",
    "    n_samples = 200,\n",
    "    centers = 3,\n",
    "    cluster_std= 3,\n",
    "    random_state= 3\n",
    ")\n",
    "#print(features)\n",
    "print([1,2] == [1,2])\n",
    "r = np.array([1,3,4]) == np.array([1,3,5])\n",
    "print(r)\n",
    "print(r.all())\n",
    "\n",
    "centroids, labels = kmeans(features, 3, 1)\n"
   ]
  },
  {
   "cell_type": "code",
   "execution_count": null,
   "metadata": {},
   "outputs": [],
   "source": [
    "# SSE and Siloutte scores\n",
    "\n",
    "# Summation of all the distances from each point to its given cluster (centroid)\n",
    "def sse():\n",
    "    return\n",
    "\n",
    "def siloutte_score():\n",
    "    return\n",
    "\n"
   ]
  },
  {
   "cell_type": "markdown",
   "metadata": {},
   "source": [
    "* If you run this algorithm multiple times, do you get the same result every time? If so, why; if not, how do you determine which result is the best one?\n",
    "\n",
    "    The result shouldn't be the same, since the algorithm involves randomness\n",
    "* How do you choose what K value to use?\n",
    "\n",
    "    Elbow-graph\n",
    "* Implement both SSE and the Silhouette score; use them to address these questions.\n",
    "* Discuss the similarities and differences between 1) K-means, 2) Gaussian Mixture Models (GMM) and 3) the Gaussian naive Bayes classifier in terms of their assumptions and parameter estimation methods. In particular, write down the implications of each assumption (e.g., x and y are assumed to be independent, and therefore, we have ....).  You can choose to write your answers as Python code, pseudo code or mathematical equations."
   ]
  },
  {
   "cell_type": "markdown",
   "metadata": {},
   "source": [
    "#### Part 2) Apply the K-means algorithm to compress images"
   ]
  },
  {
   "cell_type": "code",
   "execution_count": null,
   "metadata": {},
   "outputs": [],
   "source": []
  },
  {
   "cell_type": "markdown",
   "metadata": {},
   "source": [
    "#### Part 3) Use AIC and BIC to choose K for Gaussian Mixture Models "
   ]
  },
  {
   "cell_type": "code",
   "execution_count": null,
   "metadata": {},
   "outputs": [],
   "source": [
    "from sklearn.datasets import load_breast_cancer\n",
    "data = load_breast_cancer().data "
   ]
  }
 ],
 "metadata": {
  "kernelspec": {
   "display_name": "Python 3.10.6 64-bit",
   "language": "python",
   "name": "python3"
  },
  "language_info": {
   "codemirror_mode": {
    "name": "ipython",
    "version": 3
   },
   "file_extension": ".py",
   "mimetype": "text/x-python",
   "name": "python",
   "nbconvert_exporter": "python",
   "pygments_lexer": "ipython3",
   "version": "3.10.6"
  },
  "orig_nbformat": 4,
  "vscode": {
   "interpreter": {
    "hash": "b0fa6594d8f4cbf19f97940f81e996739fb7646882a419484c72d19e05852a7e"
   }
  }
 },
 "nbformat": 4,
 "nbformat_minor": 2
}
